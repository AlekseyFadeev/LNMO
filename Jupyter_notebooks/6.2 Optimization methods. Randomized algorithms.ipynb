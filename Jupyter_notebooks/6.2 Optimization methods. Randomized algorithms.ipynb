{
 "cells": [
  {
   "cell_type": "code",
   "execution_count": 1,
   "metadata": {},
   "outputs": [],
   "source": [
    "import numpy as np\n",
    "import random as rnd\n",
    "import matplotlib.pyplot as plt\n",
    "%matplotlib inline\n"
   ]
  },
  {
   "cell_type": "markdown",
   "metadata": {},
   "source": [
    "## Одна из проблем градиентных методов - <font color=red>негладкие функции</font>, а также \"застревание\" в локальных минимумах"
   ]
  },
  {
   "cell_type": "markdown",
   "metadata": {},
   "source": [
    "Можно решать с помощью рандомизированных алгоритмов: в выборе следующего приближения будет участвовать некоторая \"разумная случайность\". Можно рассчитывать, что \"случайность\" будет бороться с локальными минимумами (\"жадностью\" алгоритма).<br>\n",
    "Один из классических алгоритмов негладкой оптимизации - <font color=blue>метод имитации отжига</font>"
   ]
  },
  {
   "cell_type": "markdown",
   "metadata": {},
   "source": [
    "## Алгоритм имитации отжига\n",
    "Основная идея:\n",
    " - Определяем функцию \"мутации\" аргумента $mut(x)$\n",
    " - Фиксируем начальное значение \"температуры\"\n",
    " - Итеративно применяем мутации к предыдущему приближению, причем вероятность принятия локально неоптимальной мутации положительна и зависит от текущей температуры\n",
    " - С каждой итерацией температура уменьшается"
   ]
  },
  {
   "cell_type": "markdown",
   "metadata": {},
   "source": [
    "**Более формально:**\n",
    "- Хотим найти минимум некоторой функции $f$\n",
    "- В зависимости от задачи определяем функцию мутации $mut$, например $mut(x) = x + \\varepsilon$, где $\\varepsilon$ - некоторое небольшое случайное число\n",
    "- Фиксируем начальное значение температуры $T_0=100$\n",
    "- Фиксируем \"коэффициент остывания\" $0<\\alpha <1$\n",
    "- Фиксируем начальное приближение решения $x_0$\n",
    "- На каждом шаге итерации алгоритма определяем кандидата в решение: $x_{cand}^{t+1}=mut(x^t)$\n",
    "- Считаем разность $df:=f(x_{cand}^{t+1}) - f(x^t)$ - это то, насколько значение в мутированной точке отличается от значения на предыдущем шаге\n",
    "- Интуиция: если $df$ \"сильно отрицательно\", то новый кандидат существенно лучше предыдущего приближения\n",
    "- Если $df<0$, то полагаем $x^{t+1} := x_{cand}^{t+1}$ и считаем нового кандидата (предварительно уменьшив температуру: $T_{t+1}=\\alpha\\cdot T_t$)\n",
    "- Если $df>=0$, то вычисляем $p = \\exp\\left({-\\cfrac{df}{T_k}}\\right)$\n",
    "- С вероятностью $p$ принимаем $x^{t+1} := x_{cand}^{t+1}$. Именно здесь мы поступаем <font color=red>нежадным</font> образом!\n",
    "- С вероятностью $1-p$ принимаем $x^{t+1} := x^{t}$\n",
    "- Уменьшаем температуру $T_{t+1}=\\alpha\\cdot T_t$ и переходим к вычислению нового кандидата\n",
    "<br><br>\n",
    "Таким образом,  у нас всегда есть вероятность выбрать неоптимальное решение (причем, чем \"хуже\" очередной кандидат в решение, тем меньше эта вероятность, а также эта вероятность стабильно уменьшается по мере работы алгоритма (\"эффект остывания\").<br>\n",
    "**Нигде не используется гладкость $f$! <br>\n",
    "Всё, что нужно - уметь вычислять $f$ в любой точке. Никаких ограничений.**\n"
   ]
  },
  {
   "cell_type": "markdown",
   "metadata": {},
   "source": [
    "## <font color=blue> Пример применения алгоритма: задача о ферзях</font> \n",
    "Для шахматной доски $N \\times N$ требуется найти расстановку $N$ ферзей, так, чтобы они не били друг друга.\n",
    "<br><br>\n",
    "Каждое решение можно закодировать в виде перестановки на множестве $[1,2,3,\\cdots,N]$, где число $j$ на $i$-ой позиции обозначает, что в $i$-ом столбце стоит ферзь на $j$-ой сверху строке. "
   ]
  },
  {
   "cell_type": "markdown",
   "metadata": {},
   "source": [
    "### Создаём класс, отвечающий за шахматную доску размера $N\\times N$.\n",
    "В этот класс входит:\n",
    "- информация о размере поля и текущем решении (инициализируется в виде списка $[1,2,3,\\ldots,N]$)\n",
    "- метод для мутации текущего решения\n",
    "- метод для вычисления функции потерь для произвольного кандидата в решение\n",
    "- метод для вычисления функции потерь на текущем решении\n",
    "- метод для обновления текущего решения"
   ]
  },
  {
   "cell_type": "code",
   "execution_count": 2,
   "metadata": {},
   "outputs": [],
   "source": [
    "\n",
    "class chess_board():\n",
    "    \n",
    "    def __init__(self, N): # метод, который вызывается, когда мы первый раз создаём представителя класса\n",
    "        \n",
    "        self.N = N # размер доски\n",
    "        self.Pos = list(np.arange(self.N)) # начальное приближение к решению\n",
    "            \n",
    "    def mutation(self): # мутация - это случайная перестановка двух элементов\n",
    "        \n",
    "        Pos = self.Pos.copy()\n",
    "        i = 0\n",
    "        j = 0\n",
    "        while i == j: # Находим два случайных несовпадающих индекса\n",
    "            i = rnd.randint(0, self.N - 1)\n",
    "            j = rnd.randint(0, self.N - 1)\n",
    "        \n",
    "        # меняем их местами (удобная фишка Python):\n",
    "        Pos[i], Pos[j] = Pos[j], Pos[i]\n",
    "\n",
    "        return Pos\n",
    "        \n",
    "    def loss(self, Pos): # вычисление целевой функции на кандидате в решение Pos: сколько ферзей находится под ударом\n",
    "        \n",
    "        loss = 0\n",
    "        for n in range(self.N):\n",
    "            k = n - 1\n",
    "            while k >= 0:\n",
    "                if Pos[k] == (Pos[n] + (n - k)):\n",
    "                    loss = loss + 1\n",
    "\n",
    "                if Pos[k] == (Pos[n] - (n - k)):\n",
    "                    loss = loss + 1\n",
    "                k = k - 1\n",
    "\n",
    "            k = n + 1\n",
    "            while k < self.N:\n",
    "                if Pos[k] == (Pos[n] + (k - n)):\n",
    "                    loss = loss + 1\n",
    "\n",
    "                if Pos[k] == (Pos[n] - (k - n)):\n",
    "                    loss = loss + 1\n",
    "                k = k + 1\n",
    "                \n",
    "        return loss\n",
    "\n",
    "    def loss_current(self): # вычисление текущего значения функции\n",
    "        return self.loss(self.Pos)\n",
    "    \n",
    "    def update_solution(self, Pos): # обновление текущего приближения к решению\n",
    "        self.Pos = Pos\n",
    "        \n"
   ]
  },
  {
   "cell_type": "markdown",
   "metadata": {},
   "source": [
    "## Создаём класс, описывающий шаг работы алгоритма имитации отжига\n",
    "В этот класс входит:\n",
    "- Инициализация гиперпараметров алгоритма: начальная температура и коэффициент остывания\n",
    "- Метод для шага алгоритма отжига (обновляет текущее решение и вычисляет текущее значение функции потерь)"
   ]
  },
  {
   "cell_type": "code",
   "execution_count": 3,
   "metadata": {},
   "outputs": [],
   "source": [
    "# Класс, описывающий шаг работы алгоритма + инициализация параметров алгоритма\n",
    "\n",
    "class algorithm_step():\n",
    "    def __init__(self, chess_board):\n",
    "        self.board = chess_board # инициализируем шахматную доску\n",
    "        \n",
    "        self.T = 50 # начальная температура\n",
    "        self.alpha = 0.95 # коэффициент \"остывания\"\n",
    "        \n",
    "    def Step(self): # один шаг алгоритма\n",
    "        Pos = self.board.mutation() # мутируем текущее решение\n",
    "        df = self.board.loss(Pos) - self.board.loss_current() # насколько значение функции потерь уменьшилось на кандидате\n",
    "        \n",
    "        if df < 0: # если есть улучшение\n",
    "            self.board.update_solution(Pos) # принимаем текущего кандидата\n",
    "        else:\n",
    "            p = np.exp(- df / self.T) # считаем вероятность\n",
    "            \n",
    "            if p > rnd.random(): # то же самое, что вероятность того, что случайная точка с отрезка [0,1] попала в подотрезок [0,p]\n",
    "                self.board.update_solution(Pos) # принимаем локально неоптимальное решение\n",
    "                \n",
    "            # \"else\" нет, т.е. остаемся при старом приближении решения\n",
    "\n",
    "            self.T = self.alpha * self.T # уменьшаем температуру\n",
    "\n",
    "        return self.board.loss_current() # возвращаем текущее значение функции потерь"
   ]
  },
  {
   "cell_type": "markdown",
   "metadata": {},
   "source": [
    "## Запускаем алгоритм на доске $8\\times 8$"
   ]
  },
  {
   "cell_type": "code",
   "execution_count": 20,
   "metadata": {},
   "outputs": [
    {
     "name": "stdout",
     "output_type": "stream",
     "text": [
      "[4, 1, 3, 9, 6, 8, 0, 2, 7, 5]\n"
     ]
    },
    {
     "data": {
      "text/plain": [
       "Text(0, 0.5, 'Loss')"
      ]
     },
     "execution_count": 20,
     "metadata": {},
     "output_type": "execute_result"
    },
    {
     "data": {
      "image/png": "[encoded data removed]",
      "text/plain": [
       "<Figure size 432x288 with 1 Axes>"
      ]
     },
     "metadata": {
      "needs_background": "light"
     },
     "output_type": "display_data"
    }
   ],
   "source": [
    "board = chess_board(10) # размерность доски\n",
    "\n",
    "step = algorithm_step(board) # инициализируем алгоритм\n",
    "\n",
    "Curs = list() # сюда будем записывать текущие решения\n",
    "\n",
    "for n in range(1000):\n",
    "    cur = step.Step() # шаг алгоритма: обновляем решение и возвращаем текущее значение целевой функции\n",
    "    Curs.append(cur)\n",
    "    \n",
    "    if cur == 0:\n",
    "        print(board.Pos)\n",
    "        break\n",
    "\n",
    "plt.plot(Curs)\n",
    "plt.grid(True)\n",
    "plt.xlabel(\"Iteration\")\n",
    "plt.ylabel(\"Loss\")"
   ]
  },
  {
   "cell_type": "markdown",
   "metadata": {},
   "source": [
    "## Определим функцию отрисовки текущего решения на шахматной доске"
   ]
  },
  {
   "cell_type": "code",
   "execution_count": 21,
   "metadata": {},
   "outputs": [
    {
     "data": {
      "image/png": "[encoded data removed]",
      "text/plain": [
       "<Figure size 720x720 with 1 Axes>"
      ]
     },
     "metadata": {
      "needs_background": "light"
     },
     "output_type": "display_data"
    }
   ],
   "source": [
    "alphabet = ['A','B','C','D','E','F','G','H','I','J','K','L','M','N','O','P','Q','R','S','T','U','V','W','X','Y','Z']\n",
    "\n",
    "def plot_solution(Pos):\n",
    "    N = len(Pos)\n",
    "    x = np.arange(1,N+1,1)-1\n",
    "    y = N - np.array(Pos)-1\n",
    "    \n",
    "    a = np.arange(1, N+1, 1)\n",
    "    b = np.arange(1, N+1, 1)\n",
    "    X, Y = np.meshgrid(a, b)\n",
    "    \n",
    "    plt.figure(figsize=(N,N))\n",
    "\n",
    "    Z1 = 1-(np.add.outer(range(N), range(N)) % 2)  # эта хитрая штука отрисовывает фон шахматной доски\n",
    "    im1 = plt.imshow(Z1, cmap=plt.cm.gray, interpolation='nearest', alpha=0.2)\n",
    "\n",
    "    plt.xticks(np.arange(N+1),alphabet[:N]) # ось X подписываем алфавитом\n",
    "    plt.yticks(np.arange(N+1),np.arange(N,0,-1)) # Нумерация снизу вверх\n",
    "    plt.scatter(x,y,color='brown',marker='*',s=700)\n",
    "\n",
    "plot_solution(board.Pos)"
   ]
  }
 ],
 "metadata": {
  "kernelspec": {
   "display_name": "Python 3",
   "language": "python",
   "name": "python3"
  },
  "language_info": {
   "codemirror_mode": {
    "name": "ipython",
    "version": 3
   },
   "file_extension": ".py",
   "mimetype": "text/x-python",
   "name": "python",
   "nbconvert_exporter": "python",
   "pygments_lexer": "ipython3",
   "version": "3.7.3"
  }
 },
 "nbformat": 4,
 "nbformat_minor": 2
}
