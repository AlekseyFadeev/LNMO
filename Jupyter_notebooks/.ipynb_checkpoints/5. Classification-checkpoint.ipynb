{
 "cells": [
  {
   "cell_type": "code",
   "execution_count": 25,
   "metadata": {},
   "outputs": [
    {
     "name": "stdout",
     "output_type": "stream",
     "text": [
      "[[ 0.  0. 12.  8.  8.  7.  0.  0.]\n",
      " [ 0.  3. 16. 16. 11.  7.  0.  0.]\n",
      " [ 0.  2. 14.  1.  0.  0.  0.  0.]\n",
      " [ 0.  5. 14.  5.  0.  0.  0.  0.]\n",
      " [ 0.  2. 15. 16.  9.  0.  0.  0.]\n",
      " [ 0.  0.  0.  2. 16.  2.  0.  0.]\n",
      " [ 0.  0.  4.  8. 16.  4.  0.  0.]\n",
      " [ 0.  0. 11. 14.  9.  0.  0.  0.]]\n",
      "размерность данных:  (1797, 8, 8)\n"
     ]
    },
    {
     "data": {
      "image/png": "[encoded data removed]",
      "text/plain": [
       "<Figure size 432x288 with 1 Axes>"
      ]
     },
     "metadata": {
      "needs_background": "light"
     },
     "output_type": "display_data"
    }
   ],
   "source": [
    "import numpy as np\n",
    "import matplotlib.pyplot as plt\n",
    "%matplotlib inline\n",
    "\n",
    "\n",
    "from sklearn import datasets\n",
    "\n",
    "# Загружаем датасет с картинками 8х8\n",
    "digits = datasets.load_digits()\n",
    "\n",
    "X = digits.images\n",
    "y = digits.target\n",
    "\n",
    "n = 25\n",
    "plt.title(y[n],size=20)\n",
    "plt.imshow(X[n,:,:],cmap='gray')\n",
    "print(X[n,:,:])\n",
    "print('размерность данных: ',X.shape)\n",
    "\n",
    "X = X.reshape(-1,64) # Не забываем преобразовать данные в матрицу"
   ]
  },
  {
   "cell_type": "code",
   "execution_count": 53,
   "metadata": {},
   "outputs": [
    {
     "name": "stdout",
     "output_type": "stream",
     "text": [
      "Предсказание: 9 \n",
      "На самом деле: 9\n"
     ]
    },
    {
     "data": {
      "image/png": "[encoded data removed]",
      "text/plain": [
       "<Figure size 432x288 with 1 Axes>"
      ]
     },
     "metadata": {
      "needs_background": "light"
     },
     "output_type": "display_data"
    }
   ],
   "source": [
    "from sklearn.model_selection import train_test_split\n",
    "from sklearn.neighbors import KNeighborsClassifier\n",
    "\n",
    "X_train, X_test, y_train, y_test = train_test_split(X, y, test_size=0.33, random_state=42)\n",
    "\n",
    "model = KNeighborsClassifier(n_neighbors=3)\n",
    "model.fit(X_train, y_train)\n",
    "\n",
    "y_pred = model.predict(X_test)\n",
    "\n",
    "ind=1\n",
    "plt.imshow(X_test[ind,:].reshape(8,8),cmap='gray')\n",
    "print('Предсказание:',y_pred[ind], '\\nНа самом деле:', y_test[ind])"
   ]
  },
  {
   "cell_type": "markdown",
   "metadata": {},
   "source": [
    "## Как оценить качество нашей модели?"
   ]
  },
  {
   "cell_type": "code",
   "execution_count": 54,
   "metadata": {},
   "outputs": [
    {
     "name": "stdout",
     "output_type": "stream",
     "text": [
      "0.98989898989899\n",
      "Предсказание: 5 \n",
      "На самом деле: 9\n"
     ]
    },
    {
     "data": {
      "image/png": "[encoded data removed]",
      "text/plain": [
       "<Figure size 432x288 with 1 Axes>"
      ]
     },
     "metadata": {
      "needs_background": "light"
     },
     "output_type": "display_data"
    }
   ],
   "source": [
    "# Посчитаем количество долю правильно предсказанных меток:\n",
    "\n",
    "accuracy = np.sum(y_pred==y_test)/len(y_test)\n",
    "print(accuracy)\n",
    "\n",
    "# Посмотрим, на каких картинках мы ошиблись\n",
    "X_wrong=X_test[y_pred!=y_test]\n",
    "y_wrong_pred = y_pred[y_pred!=y_test]\n",
    "y_wrong_test = y_test[y_pred!=y_test]\n",
    "\n",
    "ind=4\n",
    "plt.imshow(X_wrong[ind,:].reshape(8,8),cmap='gray')\n",
    "print('Предсказание:',y_wrong_pred[ind], '\\nНа самом деле:', y_wrong_test[ind])"
   ]
  },
  {
   "cell_type": "code",
   "execution_count": 55,
   "metadata": {},
   "outputs": [
    {
     "name": "stdout",
     "output_type": "stream",
     "text": [
      "[[55  0  0  0  0  0  0  0  0  0]\n",
      " [ 0 55  0  0  0  0  0  0  0  0]\n",
      " [ 0  0 52  0  0  0  0  0  0  0]\n",
      " [ 0  0  0 56  0  0  0  0  0  0]\n",
      " [ 0  0  0  0 64  0  0  0  0  0]\n",
      " [ 0  0  0  0  0 73  0  0  0  0]\n",
      " [ 0  0  0  0  0  0 57  0  0  0]\n",
      " [ 0  0  0  0  0  0  0 61  0  1]\n",
      " [ 0  1  0  0  0  0  0  0 51  0]\n",
      " [ 0  0  0  1  1  1  0  0  1 64]]\n"
     ]
    }
   ],
   "source": [
    "from sklearn.metrics import confusion_matrix\n",
    "\n",
    "print(confusion_matrix(y_test, y_pred))"
   ]
  },
  {
   "cell_type": "markdown",
   "metadata": {},
   "source": [
    "## Вопрос на засыпку: в чём подвох? Простейшая модель распознала картинки с точностью <font color=red>99%</font>! Может, не нужны никакие нейросети?"
   ]
  }
 ],
 "metadata": {
  "kernelspec": {
   "display_name": "Python 3",
   "language": "python",
   "name": "python3"
  },
  "language_info": {
   "codemirror_mode": {
    "name": "ipython",
    "version": 3
   },
   "file_extension": ".py",
   "mimetype": "text/x-python",
   "name": "python",
   "nbconvert_exporter": "python",
   "pygments_lexer": "ipython3",
   "version": "3.7.3"
  }
 },
 "nbformat": 4,
 "nbformat_minor": 2
}
