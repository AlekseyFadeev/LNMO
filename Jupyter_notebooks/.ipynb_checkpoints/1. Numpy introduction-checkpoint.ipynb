{
 "cells": [
  {
   "cell_type": "markdown",
   "metadata": {},
   "source": [
    "## Импортируем библиотеку numpy и создаём список"
   ]
  },
  {
   "cell_type": "code",
   "execution_count": 2,
   "metadata": {},
   "outputs": [
    {
     "name": "stdout",
     "output_type": "stream",
     "text": [
      "[ 1 10 20 30 40 50]\n"
     ]
    }
   ],
   "source": [
    "import numpy as np\n",
    "\n",
    "x = np.array([1, 10, 20, 30, 40, 50])\n",
    "print(x)"
   ]
  },
  {
   "cell_type": "markdown",
   "metadata": {},
   "source": [
    "## 2-D список (матрица)"
   ]
  },
  {
   "cell_type": "code",
   "execution_count": 23,
   "metadata": {
    "scrolled": true
   },
   "outputs": [
    {
     "name": "stdout",
     "output_type": "stream",
     "text": [
      "[[ 1 10 20]\n",
      " [30 40 50]]\n",
      "\n",
      "Размерность массива y:  (2, 3)\n"
     ]
    }
   ],
   "source": [
    "y = np.array([[1, 10, 20], [30, 40, 50]])\n",
    "print(y)\n",
    "print('\\nРазмерность массива y: ', y.shape)"
   ]
  },
  {
   "cell_type": "markdown",
   "metadata": {},
   "source": [
    "## Изменяем форму массива"
   ]
  },
  {
   "cell_type": "code",
   "execution_count": 28,
   "metadata": {},
   "outputs": [
    {
     "name": "stdout",
     "output_type": "stream",
     "text": [
      "[[ 1 10]\n",
      " [20 30]\n",
      " [40 50]]\n",
      "\n",
      "Не то же самое, что транспонирование!\n"
     ]
    }
   ],
   "source": [
    "z = np.reshape(y, (3,2))\n",
    "print(z)\n",
    "print('\\nНе то же самое, что транспонирование!')"
   ]
  },
  {
   "cell_type": "code",
   "execution_count": 33,
   "metadata": {},
   "outputs": [
    {
     "name": "stdout",
     "output_type": "stream",
     "text": [
      "Транспонирование:\n",
      "[[ 1 30]\n",
      " [10 40]\n",
      " [20 50]]\n",
      "\n",
      "Превращаем матрицу в вектор:\n",
      "[ 1 10 20 30 40 50]\n"
     ]
    }
   ],
   "source": [
    "print('Транспонирование:')\n",
    "print(y.T)\n",
    "\n",
    "print('\\nПревращаем матрицу в вектор:')\n",
    "print(np.ravel(y))"
   ]
  },
  {
   "cell_type": "markdown",
   "metadata": {},
   "source": [
    "## Можно эффективно выполнять операции над матрицами"
   ]
  },
  {
   "cell_type": "code",
   "execution_count": 62,
   "metadata": {},
   "outputs": [
    {
     "name": "stdout",
     "output_type": "stream",
     "text": [
      "Определитель A равен:  -21.00000000000001\n",
      "\n",
      "Ранг A равен:  3\n",
      "\n",
      "Обратная для A матрица:\n",
      "  [[ 0.14285714 -2.95238095  1.80952381]\n",
      " [-0.28571429  2.9047619  -1.61904762]\n",
      " [ 0.14285714 -0.28571429  0.14285714]]\n",
      "\n",
      "Произведение матриц A и B:\n",
      " [[ 1  2 10]\n",
      " [ 4  5  6]\n",
      " [ 7  8  9]]\n"
     ]
    }
   ],
   "source": [
    "A = np.array([[1,2,10],\n",
    "              [4,5,6],\n",
    "              [7,8,9]])\n",
    "\n",
    "print('Определитель A равен: ', np.linalg.det(A))\n",
    "print()\n",
    "print('Ранг A равен: ', np.linalg.matrix_rank(A))\n",
    "print()\n",
    "print('Обратная для A матрица:\\n ', np.linalg.inv(A))\n",
    "print()\n",
    "\n",
    "B = np.array([[1,0,0],\n",
    "              [0,1,0],\n",
    "              [0,0,1]])\n",
    "\n",
    "C = np.matmul(A,B)\n",
    "print('Произведение матриц A и B:\\n', C)"
   ]
  },
  {
   "cell_type": "markdown",
   "metadata": {},
   "source": [
    "## Обращаемся к отдельным элементам"
   ]
  },
  {
   "cell_type": "code",
   "execution_count": 49,
   "metadata": {},
   "outputs": [
    {
     "name": "stdout",
     "output_type": "stream",
     "text": [
      "2\n"
     ]
    }
   ],
   "source": [
    "print(A[0,1]) # нумерация начинается с 0!"
   ]
  },
  {
   "cell_type": "code",
   "execution_count": 50,
   "metadata": {},
   "outputs": [
    {
     "name": "stdout",
     "output_type": "stream",
     "text": [
      "[1 4 7]\n"
     ]
    }
   ],
   "source": [
    "print(A[:,0]) # первый столбец"
   ]
  },
  {
   "cell_type": "code",
   "execution_count": 51,
   "metadata": {},
   "outputs": [
    {
     "name": "stdout",
     "output_type": "stream",
     "text": [
      "[4 5 6]\n"
     ]
    }
   ],
   "source": [
    "print(A[1,:]) # вторая строка"
   ]
  },
  {
   "cell_type": "code",
   "execution_count": 52,
   "metadata": {},
   "outputs": [
    {
     "name": "stdout",
     "output_type": "stream",
     "text": [
      "[[4 5]\n",
      " [7 8]]\n"
     ]
    }
   ],
   "source": [
    "print(A[1:,:2]) # левый нижний квадрат 2х2"
   ]
  },
  {
   "cell_type": "code",
   "execution_count": 59,
   "metadata": {},
   "outputs": [
    {
     "name": "stdout",
     "output_type": "stream",
     "text": [
      "[[False False  True]\n",
      " [False False  True]\n",
      " [ True  True  True]]\n",
      "\n",
      " [10  6  7  8  9]\n"
     ]
    }
   ],
   "source": [
    "print(A>5) # условия применяются поэлементно!\n",
    "\n",
    "print('\\n', A[A>5]) # фильтрация с помощью передачи булевой маски"
   ]
  },
  {
   "cell_type": "code",
   "execution_count": 65,
   "metadata": {},
   "outputs": [
    {
     "name": "stdout",
     "output_type": "stream",
     "text": [
      "A:\n",
      "[[ 1  2 10]\n",
      " [ 4  5  6]\n",
      " [ 7  8  9]]\n",
      "\n",
      "A+100:\n",
      "[[101 102 110]\n",
      " [104 105 106]\n",
      " [107 108 109]]\n",
      "\n",
      "A*2:\n",
      "[[ 2  4 20]\n",
      " [ 8 10 12]\n",
      " [14 16 18]]\n",
      "\n",
      "A**2:\n",
      "[[  1   4 100]\n",
      " [ 16  25  36]\n",
      " [ 49  64  81]]\n"
     ]
    }
   ],
   "source": [
    "print('A:')\n",
    "print(A)\n",
    "\n",
    "print('\\nA+100:')\n",
    "print(A+100)\n",
    "\n",
    "print('\\nA*2:')\n",
    "print(A*2)\n",
    "\n",
    "print('\\nA**2:')\n",
    "print(A**2)"
   ]
  }
 ],
 "metadata": {
  "kernelspec": {
   "display_name": "Python 3",
   "language": "python",
   "name": "python3"
  },
  "language_info": {
   "codemirror_mode": {
    "name": "ipython",
    "version": 3
   },
   "file_extension": ".py",
   "mimetype": "text/x-python",
   "name": "python",
   "nbconvert_exporter": "python",
   "pygments_lexer": "ipython3",
   "version": "3.7.3"
  }
 },
 "nbformat": 4,
 "nbformat_minor": 2
}
