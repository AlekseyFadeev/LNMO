{
 "cells": [
  {
   "cell_type": "code",
   "execution_count": 1,
   "metadata": {},
   "outputs": [],
   "source": [
    "import numpy as np\n",
    "import matplotlib.pyplot as plt\n",
    "%matplotlib inline\n"
   ]
  },
  {
   "attachments": {},
   "cell_type": "markdown",
   "metadata": {},
   "source": [
    "## Научимся разделять данные <font color=blue>гиперплоскостью</font>\n",
    "\n",
    "Уравнение гиперплоскости:\n",
    "<center>\n",
    "$\\omega_{1}X_{1}+\\omega_{2}X_{2}+\\ldots+\\omega_{n}X_{n} = 0$<br><br>\n",
    "</center>\n",
    "или, проще:\n",
    "<center>\n",
    "<font color=blue size=4>$\\omega\\cdot X = 0$</font>\n",
    "</center><br>\n",
    "Уравнение множества точек $X$, лежащих под гиперплоскостью:\n",
    "<center>\n",
    "$\\omega\\cdot X < 0$\n",
    "</center>\n",
    "\n",
    "Если нашли подходящие коэффициенты $\\omega$, то разбить данные на два класса можно, например, с помощью такой функции:\n",
    "<br><br>\n",
    "<center>\n",
    "$sign(\\omega\\cdot X)$\n",
    "</center>\n",
    "\n",
    "![Log regression](https://habrastorage.org/files/77b/af8/55c/77baf855c84a4ba9a851060ec7ae6ec8.png)\n",
    "\n",
    "Идея: чем ближе точка к разделяющей гиперплоскости, тем больше наша <font color=red> неуверенность </font>, что классификация корректна. \n",
    "Давайте построим такое преобразование $\\sigma$, что:\n",
    "- $\\sigma : \\mathbb{R}\\longrightarrow (0,1)$\n",
    "- $\\sigma$ - непрерывная и (желательно) непрерывно дифференцируемая\n",
    "- $\\sigma(x)\\rightarrow 0$ при $x\\rightarrow -\\infty$\n",
    "- $\\sigma(x)\\rightarrow 1$ при $x\\rightarrow \\infty$\n",
    "- $\\sigma$ - строго монотонно возрастает\n",
    "- $\\sigma(0) = \\cfrac{1}{2}$ - максимальная неопределённость\n",
    "\n",
    "Подходящий кандидат:\n",
    "<center>\n",
    "$\\sigma(x) = \\cfrac{1}{1+e^{-x}}$\n",
    "</center>\n",
    "\n",
    "Эта функция называется <font color=blue>логистическая сигмоида</font>, полезно её запомнить!"
   ]
  },
  {
   "cell_type": "code",
   "execution_count": 2,
   "metadata": {},
   "outputs": [
    {
     "data": {
      "text/plain": [
       "[<matplotlib.lines.Line2D at 0x11841d2b0>]"
      ]
     },
     "execution_count": 2,
     "metadata": {},
     "output_type": "execute_result"
    },
    {
     "data": {
      "image/png": "[encoded data removed]",
      "text/plain": [
       "<Figure size 432x288 with 1 Axes>"
      ]
     },
     "metadata": {
      "needs_background": "light"
     },
     "output_type": "display_data"
    }
   ],
   "source": [
    "def sigmoid(x):\n",
    "    \n",
    "    y = 1/(1+np.exp(-x))\n",
    "    return y\n",
    "\n",
    "X = np.linspace(-10,10,100)\n",
    "plt.plot(X,sigmoid(X))"
   ]
  },
  {
   "cell_type": "markdown",
   "metadata": {},
   "source": [
    "## Рассмотрим композицию скалярного произведения и логистической сигмоиды:\n",
    "\n",
    "<br>\n",
    "<center>\n",
    "$f_{\\omega}:\\mathbb{R}^n \\longrightarrow (0,1)$<br><br>\n",
    "$f_{\\omega}(x) = \\sigma(\\omega\\cdot x) = \\cfrac{1}{1+e^{-\\omega\\cdot x}}$\n",
    "</center>\n",
    "    \n",
    "Получается такой набросок алгоритма:\n",
    "- Берем $m$ тестовых данных: $X = \\mathbb{R}^{m\\times n}$ и соответствующих им классов: $y = \\{-1,1\\}^m$\n",
    "- Находим такое **оптимальное значение $\\omega$**, такое что вероятности отнесения всех тестовых данных к правильным классам близки к 0 и 1 соответственно:\n",
    "<center>\n",
    "если $y_{i} = -1$, то хотим, чтобы $f_{\\omega}(x_{i})$ был близок к 0<br>\n",
    "если $y_{i} = 1$, то хотим, чтобы $f_{\\omega}(x_{i})$ был близок к 1<br><br>\n",
    "</center>\n",
    "- Модель обучена! Если знаем $\\omega$, то для любых новых данных $z$ можем посчитать $f_{\\omega}(z)$, и делать предсказания, например, так:\n",
    "<center>\n",
    "если $f_{\\omega}(z) > \\cfrac{1}{2}$, то относим $z$ к классу 1<br>\n",
    "если $f_{\\omega}(z) < \\cfrac{1}{2}$, то относим $z$ к классу -1<br><br>\n",
    "</center>\n",
    "\n",
    "Как же найти оптимальное значение $\\omega$? <br>\n",
    "Давайте попробуем построить функцию потерь."
   ]
  },
  {
   "cell_type": "markdown",
   "metadata": {},
   "source": [
    "Мы трактуем $\\sigma(\\omega\\cdot x)$ как вероятность принадлежности элемента $x$ к классу 1.<br>\n",
    "Тогда вероятность принадлежности $x$ противоположному классу равна:\n",
    "<center>\n",
    "$1 - \\sigma(\\omega\\cdot x) = 1 - \\cfrac{1}{1+e^{-\\omega\\cdot x}} = \\cfrac{1+e^{-\\omega\\cdot x}-1}{1+e^{-\\omega\\cdot x}} = \\cfrac{e^{\\omega\\cdot x}}{e^{\\omega\\cdot x}} \\cdot \\cfrac{e^{-\\omega\\cdot x}}{1+e^{-\\omega\\cdot x}} = \\cfrac{1}{e^{\\omega\\cdot x}+1} = \\sigma(-\\omega\\cdot x)$\n",
    "\n",
    "</center>\n",
    "\n",
    "С учётом этого свойства мы можем очень лаконично записать фразу <font color=blue>\"вероятность принадлежности $x$ правильному классу\"</font>:<br><br>\n",
    "<center>\n",
    "    $\\sigma(y_{i}\\omega\\cdot x_{i})$\n",
    "</center><br>\n",
    "Теперь можно воспользоваться принципом максимального правдоподобия: <font color = blue>вероятность, что все данные классифицированы верно, равна произведению вероятностей правильной классификации каждого отдельного элемента </font>. Поэтому вполне естественно искать $\\omega$ из следующего условия:\n",
    "<br>\n",
    "<center>\n",
    "$\\sigma(y_{1}\\omega\\cdot x_{1}) \\cdot \\sigma(y_{2}\\omega\\cdot x_{2})\\cdot\\ldots\\cdot\\sigma(y_{m}\\omega\\cdot x_{m})\\longrightarrow max$\n",
    "</center>\n",
    "\n",
    "Искать минимум такого выражения сложно, но мы можем упростить себе жизнь, заметив, что:\n",
    "<center><br>\n",
    "$argmax(f(\\omega)) = argmax(ln(f(\\omega)))$\n",
    "</center>\n",
    "\n",
    "После несложных преобразований видно, что задача состоит в том, чтобы **минимизировать** следующую функцию:\n",
    "<br><br>\n",
    "<center>\n",
    "$Loss(\\omega) = ln(1+ e^{-y_{1}\\omega\\cdot x_{1}}) + ln(1+ e^{-y_{2}\\omega\\cdot x_{2}})+\\ldots+ln(1+ e^{-y_{m}\\omega\\cdot x_{m}})\\longrightarrow min$\n",
    "</center><br>\n",
    "Получаем т.н. <font color=blue>логистическую функцию потерь</font>. Её минимум = обученная модель!"
   ]
  },
  {
   "cell_type": "markdown",
   "metadata": {},
   "source": [
    "## Применим логистическую регрессию для классификации тех же картинок с цифрами"
   ]
  },
  {
   "cell_type": "code",
   "execution_count": 3,
   "metadata": {},
   "outputs": [
    {
     "name": "stdout",
     "output_type": "stream",
     "text": [
      "[[ 0.  0. 12.  8.  8.  7.  0.  0.]\n",
      " [ 0.  3. 16. 16. 11.  7.  0.  0.]\n",
      " [ 0.  2. 14.  1.  0.  0.  0.  0.]\n",
      " [ 0.  5. 14.  5.  0.  0.  0.  0.]\n",
      " [ 0.  2. 15. 16.  9.  0.  0.  0.]\n",
      " [ 0.  0.  0.  2. 16.  2.  0.  0.]\n",
      " [ 0.  0.  4.  8. 16.  4.  0.  0.]\n",
      " [ 0.  0. 11. 14.  9.  0.  0.  0.]]\n",
      "размерность данных:  (1797, 8, 8)\n"
     ]
    },
    {
     "data": {
      "image/png": "[encoded data removed]",
      "text/plain": [
       "<Figure size 432x288 with 1 Axes>"
      ]
     },
     "metadata": {
      "needs_background": "light"
     },
     "output_type": "display_data"
    }
   ],
   "source": [
    "from sklearn import datasets\n",
    "\n",
    "# Загружаем датасет с картинками 8х8\n",
    "digits = datasets.load_digits()\n",
    "\n",
    "X = digits.images\n",
    "y = digits.target\n",
    "\n",
    "n = 25\n",
    "plt.title(y[n],size=20)\n",
    "plt.imshow(X[n,:,:],cmap='gray')\n",
    "print(X[n,:,:])\n",
    "print('размерность данных: ',X.shape)\n",
    "\n",
    "X = X.reshape(-1,64) # Не забываем преобразовать данные в матрицу"
   ]
  },
  {
   "cell_type": "code",
   "execution_count": 5,
   "metadata": {},
   "outputs": [
    {
     "name": "stdout",
     "output_type": "stream",
     "text": [
      "Предсказание: 9 \n",
      "На самом деле: 9\n"
     ]
    },
    {
     "data": {
      "image/png": "[encoded data removed]",
      "text/plain": [
       "<Figure size 432x288 with 1 Axes>"
      ]
     },
     "metadata": {
      "needs_background": "light"
     },
     "output_type": "display_data"
    }
   ],
   "source": [
    "import warnings\n",
    "warnings.filterwarnings('ignore')\n",
    "\n",
    "from sklearn.model_selection import train_test_split\n",
    "from sklearn.linear_model import LogisticRegression\n",
    "\n",
    "X_train, X_test, y_train, y_test = train_test_split(X, y, test_size=0.33, random_state=42)\n",
    "\n",
    "model = LogisticRegression()\n",
    "model.fit(X_train, y_train)\n",
    "\n",
    "y_pred = model.predict(X_test)\n",
    "\n",
    "ind=1\n",
    "plt.imshow(X_test[ind,:].reshape(8,8),cmap='gray')\n",
    "print('Предсказание:',y_pred[ind], '\\nНа самом деле:', y_test[ind])"
   ]
  },
  {
   "cell_type": "markdown",
   "metadata": {},
   "source": [
    "## Оценим точность"
   ]
  },
  {
   "cell_type": "code",
   "execution_count": 7,
   "metadata": {},
   "outputs": [
    {
     "name": "stdout",
     "output_type": "stream",
     "text": [
      "0.9612794612794613\n",
      "Предсказание: 1 \n",
      "На самом деле: 5\n"
     ]
    },
    {
     "data": {
      "image/png": "[encoded data removed]",
      "text/plain": [
       "<Figure size 432x288 with 1 Axes>"
      ]
     },
     "metadata": {
      "needs_background": "light"
     },
     "output_type": "display_data"
    }
   ],
   "source": [
    "# Посчитаем количество долю правильно предсказанных меток:\n",
    "\n",
    "accuracy = np.sum(y_pred==y_test)/len(y_test)\n",
    "print(accuracy)\n",
    "\n",
    "# Посмотрим, на каких картинках мы ошиблись\n",
    "X_wrong=X_test[y_pred!=y_test]\n",
    "y_wrong_pred = y_pred[y_pred!=y_test]\n",
    "y_wrong_test = y_test[y_pred!=y_test]\n",
    "\n",
    "ind=1\n",
    "plt.imshow(X_wrong[ind,:].reshape(8,8),cmap='gray')\n",
    "print('Предсказание:',y_wrong_pred[ind], '\\nНа самом деле:', y_wrong_test[ind])"
   ]
  },
  {
   "cell_type": "markdown",
   "metadata": {},
   "source": [
    "## Теперь у нас есть возможность оценить вероятность классов!"
   ]
  },
  {
   "cell_type": "code",
   "execution_count": 16,
   "metadata": {},
   "outputs": [
    {
     "name": "stdout",
     "output_type": "stream",
     "text": [
      "0.0\n",
      "0.501\n",
      "0.0\n",
      "0.0\n",
      "0.0\n",
      "0.492\n",
      "0.0\n",
      "0.0\n",
      "0.008\n",
      "0.0\n"
     ]
    }
   ],
   "source": [
    "y_pred_prob = model.predict_proba(X_test)[y_pred!=y_test]\n",
    "for i in range(10):\n",
    "    print(np.round(y_pred_prob[ind][i],3))"
   ]
  }
 ],
 "metadata": {
  "kernelspec": {
   "display_name": "Python 3",
   "language": "python",
   "name": "python3"
  },
  "language_info": {
   "codemirror_mode": {
    "name": "ipython",
    "version": 3
   },
   "file_extension": ".py",
   "mimetype": "text/x-python",
   "name": "python",
   "nbconvert_exporter": "python",
   "pygments_lexer": "ipython3",
   "version": "3.7.3"
  }
 },
 "nbformat": 4,
 "nbformat_minor": 2
}
